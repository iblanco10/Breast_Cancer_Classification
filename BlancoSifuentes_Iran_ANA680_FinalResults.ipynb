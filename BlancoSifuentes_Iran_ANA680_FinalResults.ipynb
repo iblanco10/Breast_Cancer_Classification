{
 "cells": [
  {
   "cell_type": "code",
   "execution_count": 16,
   "id": "1f319b63-163a-4886-9b0e-029a6cbbc0a3",
   "metadata": {},
   "outputs": [
    {
     "name": "stdout",
     "output_type": "stream",
     "text": [
      "Loaded Accuracy Models: ['logistic_regression' 'knn' 'linear_svm' 'kernel_svm' 'naive_bayes'\n",
      " 'decision_tree' 'random_forest' 'xgboost']\n",
      "Expected Confusion Matrix Models: ['logistic_regression' 'knn' 'linear_svm' 'kernel_svm' 'naive_bayes'\n",
      " 'decision_tree' 'random_forest' 'xgboost']\n",
      "Final results compiled successfully! Check 'final_results.csv'.\n",
      "                 Model  Accuracy  True Positives (TP)  True Negatives (TN)  \\\n",
      "0        decision_tree  0.941520                   60                  101   \n",
      "1           kernel_svm  0.947368                   61                  101   \n",
      "2                  knn  0.947368                   60                  102   \n",
      "3           linear_svm  0.953216                   61                  102   \n",
      "4  logistic_regression  0.953216                   61                  102   \n",
      "5          naive_bayes  0.964912                   65                  100   \n",
      "6        random_forest  0.935673                   58                  102   \n",
      "7              xgboost  0.953216                   61                  102   \n",
      "\n",
      "   False Positives (FP)  False Negatives (FN)  \n",
      "0                     2                     8  \n",
      "1                     2                     7  \n",
      "2                     1                     8  \n",
      "3                     1                     7  \n",
      "4                     1                     7  \n",
      "5                     3                     3  \n",
      "6                     1                    10  \n",
      "7                     1                     7  \n"
     ]
    }
   ],
   "source": [
    "import pandas as pd\n",
    "\n",
    "# Model names\n",
    "models = [\"logistic_regression\", \"knn\", \"linear_svm\", \"kernel_svm\",\n",
    "          \"naive_bayes\", \"decision_tree\", \"random_forest\", \"xgboost\"]\n",
    "\n",
    "model_results = [f\"results_{model}.csv\" for model in models]\n",
    "\n",
    "# Load and concatenate all accuracy results\n",
    "accuracy_dataframes = []\n",
    "for file, model in zip(model_results, models):\n",
    "    try:\n",
    "        df = pd.read_csv(file)\n",
    "        df[\"Model\"] = model  \n",
    "        accuracy_dataframes.append(df)\n",
    "    except FileNotFoundError:\n",
    "        print(f\"Warning: {file} not found. Skipping.\")\n",
    "\n",
    "# Ensuring I have at least one dataframe to concatenate\n",
    "if accuracy_dataframes:\n",
    "    accuracy_df = pd.concat(accuracy_dataframes)\n",
    "    print(\"Loaded Accuracy Models:\", accuracy_df[\"Model\"].unique()) \n",
    "else:\n",
    "    print(\"No accuracy data loaded. Check if CSV files exist.\")\n",
    "    exit()\n",
    "\n",
    "# Defining confusion matrix results\n",
    "conf_matrix_data = {\n",
    "    \"Model\": models,  \n",
    "    \"True Positives (TP)\": [61, 60, 61, 61, 65, 60, 58, 61],\n",
    "    \"True Negatives (TN)\": [102, 102, 102, 101, 100, 101, 102, 102],\n",
    "    \"False Positives (FP)\": [1, 1, 1, 2, 3, 2, 1, 1],\n",
    "    \"False Negatives (FN)\": [7, 8, 7, 7, 3, 8, 10, 7],\n",
    "}\n",
    "\n",
    "# Creating confusion matrix DataFrame\n",
    "conf_matrix_df = pd.DataFrame(conf_matrix_data)\n",
    "print(\"Expected Confusion Matrix Models:\", conf_matrix_df[\"Model\"].unique()) \n",
    "\n",
    "# Merging both tables into a final summary\n",
    "final_results = pd.merge(accuracy_df, conf_matrix_df, on=\"Model\", how=\"outer\")\n",
    "\n",
    "# Save\n",
    "final_results.to_csv(\"final_results.csv\", index=False)\n",
    "\n",
    "print(\"Final results compiled successfully! Check 'final_results.csv'.\")\n",
    "print(final_results)\n"
   ]
  },
  {
   "cell_type": "code",
   "execution_count": null,
   "id": "16b8107a-f41f-4132-a919-799a5ca1ffd3",
   "metadata": {},
   "outputs": [],
   "source": []
  }
 ],
 "metadata": {
  "kernelspec": {
   "display_name": "Python 3 (ipykernel)",
   "language": "python",
   "name": "python3"
  },
  "language_info": {
   "codemirror_mode": {
    "name": "ipython",
    "version": 3
   },
   "file_extension": ".py",
   "mimetype": "text/x-python",
   "name": "python",
   "nbconvert_exporter": "python",
   "pygments_lexer": "ipython3",
   "version": "3.12.4"
  }
 },
 "nbformat": 4,
 "nbformat_minor": 5
}
