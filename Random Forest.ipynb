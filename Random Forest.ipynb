{
 "cells": [
  {
   "cell_type": "code",
   "execution_count": 1,
   "id": "15446179-392a-4f2c-b1c0-d0fc71b32cd8",
   "metadata": {},
   "outputs": [
    {
     "name": "stdout",
     "output_type": "stream",
     "text": [
      "Data preprocessing completed and saved.\n"
     ]
    }
   ],
   "source": [
    "import pandas as pd\n",
    "import numpy as np\n",
    "from sklearn.model_selection import train_test_split\n",
    "from sklearn.ensemble import RandomForestClassifier\n",
    "from sklearn.metrics import accuracy_score, confusion_matrix\n",
    "\n",
    "file_path = \"/Users/iranblanco/Desktop/Masters/ANA 680/Week 1/HW1/breast-cancer-wisconsin.data\"\n",
    "\n",
    "# Column names \n",
    "column_names = [\n",
    "    \"Sample code number\",\n",
    "    \"Clump Thickness\",\n",
    "    \"Uniformity of Cell Size\",\n",
    "    \"Uniformity of Cell Shape\",\n",
    "    \"Marginal Adhesion\",\n",
    "    \"Single Epithelial Cell Size\",\n",
    "    \"Bare Nuclei\",\n",
    "    \"Bland Chromatin\",\n",
    "    \"Normal Nucleoli\",\n",
    "    \"Mitoses\",\n",
    "    \"Class\"\n",
    "]\n",
    "\n",
    "df = pd.read_csv(file_path, header=None, names=column_names)\n",
    "\n",
    "# Missing values replaced\n",
    "df.replace('?', np.nan, inplace=True)\n",
    "df[\"Bare Nuclei\"] = pd.to_numeric(df[\"Bare Nuclei\"])  \n",
    "\n",
    "# Drop rows \n",
    "df.dropna(inplace=True)\n",
    "\n",
    "# Defining features (X) and target variable (y)\n",
    "X = df.drop(columns=[\"Sample code number\", \"Class\"])\n",
    "y = df[\"Class\"]\n",
    "\n",
    "# Spliting into training (75%) and testing (25%)\n",
    "X_train, X_test, y_train, y_test = train_test_split(X, y, test_size=0.25, random_state=42)\n",
    "\n",
    "np.save(\"X_train.npy\", X_train)\n",
    "np.save(\"X_test.npy\", X_test)\n",
    "np.save(\"y_train.npy\", y_train)\n",
    "np.save(\"y_test.npy\", y_test)\n",
    "\n",
    "print(\"Data preprocessing completed and saved.\")"
   ]
  },
  {
   "cell_type": "code",
   "execution_count": 3,
   "id": "cc428cc5-c3de-425c-ad53-294a4891d01b",
   "metadata": {},
   "outputs": [
    {
     "name": "stdout",
     "output_type": "stream",
     "text": [
      "Random Forest Results:\n",
      "Accuracy: 0.935672514619883\n",
      "Confusion Matrix:\n",
      " [[102   1]\n",
      " [ 10  58]]\n"
     ]
    }
   ],
   "source": [
    "# Load data\n",
    "X_train = np.load(\"X_train.npy\")\n",
    "X_test = np.load(\"X_test.npy\")\n",
    "y_train = np.load(\"y_train.npy\")\n",
    "y_test = np.load(\"y_test.npy\")\n",
    "\n",
    "# Initialize and train the Random Forest model (10 estimators)\n",
    "model = RandomForestClassifier(n_estimators=10, random_state=42)\n",
    "model.fit(X_train, y_train)\n",
    "\n",
    "# Predictions on the test set\n",
    "y_pred = model.predict(X_test)\n",
    "\n",
    "# Evaluating performance\n",
    "accuracy = accuracy_score(y_test, y_pred)\n",
    "conf_matrix = confusion_matrix(y_test, y_pred)\n",
    "\n",
    "# Saving results to a CSV file\n",
    "results = pd.DataFrame({\"Model\": [\"Random Forest\"], \"Accuracy\": [accuracy]})\n",
    "results.to_csv(\"results_random_forest.csv\", index=False)\n",
    "\n",
    "# Print\n",
    "print(\"Random Forest Results:\")\n",
    "print(\"Accuracy:\", accuracy)\n",
    "print(\"Confusion Matrix:\\n\", conf_matrix)"
   ]
  },
  {
   "cell_type": "code",
   "execution_count": null,
   "id": "4f29f55e-3f09-4a6f-9569-a1a73f9149f4",
   "metadata": {},
   "outputs": [],
   "source": []
  }
 ],
 "metadata": {
  "kernelspec": {
   "display_name": "Python 3 (ipykernel)",
   "language": "python",
   "name": "python3"
  },
  "language_info": {
   "codemirror_mode": {
    "name": "ipython",
    "version": 3
   },
   "file_extension": ".py",
   "mimetype": "text/x-python",
   "name": "python",
   "nbconvert_exporter": "python",
   "pygments_lexer": "ipython3",
   "version": "3.12.4"
  }
 },
 "nbformat": 4,
 "nbformat_minor": 5
}
