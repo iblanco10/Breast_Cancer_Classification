{
 "cells": [
  {
   "cell_type": "code",
   "execution_count": 1,
   "id": "7b43bec1-2b96-4c94-ad46-6b63038ff515",
   "metadata": {},
   "outputs": [
    {
     "name": "stdout",
     "output_type": "stream",
     "text": [
      "Data preprocessing completed and saved.\n"
     ]
    }
   ],
   "source": [
    "import pandas as pd\n",
    "import numpy as np\n",
    "from sklearn.model_selection import train_test_split\n",
    "from sklearn.svm import SVC\n",
    "from sklearn.metrics import accuracy_score, confusion_matrix\n",
    "\n",
    "file_path = \"/Users/iranblanco/Desktop/Masters/ANA 680/Week 1/HW1/breast-cancer-wisconsin.data\"\n",
    "\n",
    "# Column names \n",
    "column_names = [\n",
    "    \"Sample code number\",\n",
    "    \"Clump Thickness\",\n",
    "    \"Uniformity of Cell Size\",\n",
    "    \"Uniformity of Cell Shape\",\n",
    "    \"Marginal Adhesion\",\n",
    "    \"Single Epithelial Cell Size\",\n",
    "    \"Bare Nuclei\",\n",
    "    \"Bland Chromatin\",\n",
    "    \"Normal Nucleoli\",\n",
    "    \"Mitoses\",\n",
    "    \"Class\"\n",
    "]\n",
    "\n",
    "df = pd.read_csv(file_path, header=None, names=column_names)\n",
    "\n",
    "# Missing values replaced\n",
    "df.replace('?', np.nan, inplace=True)\n",
    "df[\"Bare Nuclei\"] = pd.to_numeric(df[\"Bare Nuclei\"])  \n",
    "\n",
    "# Drop rows \n",
    "df.dropna(inplace=True)\n",
    "\n",
    "# Defining features (X) and target variable (y)\n",
    "X = df.drop(columns=[\"Sample code number\", \"Class\"])\n",
    "y = df[\"Class\"]\n",
    "\n",
    "# Spliting into training (75%) and testing (25%)\n",
    "X_train, X_test, y_train, y_test = train_test_split(X, y, test_size=0.25, random_state=42)\n",
    "\n",
    "np.save(\"X_train.npy\", X_train)\n",
    "np.save(\"X_test.npy\", X_test)\n",
    "np.save(\"y_train.npy\", y_train)\n",
    "np.save(\"y_test.npy\", y_test)\n",
    "\n",
    "print(\"Data preprocessing completed and saved.\")"
   ]
  },
  {
   "cell_type": "code",
   "execution_count": 3,
   "id": "88377090-248a-49b7-94e1-9bbe7a153cc5",
   "metadata": {},
   "outputs": [
    {
     "name": "stdout",
     "output_type": "stream",
     "text": [
      "Kernel SVM (RBF) Results:\n",
      "Accuracy: 0.9473684210526315\n",
      "Confusion Matrix:\n",
      " [[101   2]\n",
      " [  7  61]]\n"
     ]
    }
   ],
   "source": [
    "# Load data\n",
    "X_train = np.load(\"X_train.npy\")\n",
    "X_test = np.load(\"X_test.npy\")\n",
    "y_train = np.load(\"y_train.npy\")\n",
    "y_test = np.load(\"y_test.npy\")\n",
    "\n",
    "# Initialize and train the Kernel SVM model (RBF kernel)\n",
    "model = SVC(kernel=\"rbf\")\n",
    "model.fit(X_train, y_train)\n",
    "\n",
    "# Predictions on the test set\n",
    "y_pred = model.predict(X_test)\n",
    "\n",
    "# Evaluating performance\n",
    "accuracy = accuracy_score(y_test, y_pred)\n",
    "conf_matrix = confusion_matrix(y_test, y_pred)\n",
    "\n",
    "# Saving results to a CSV file\n",
    "results = pd.DataFrame({\"Model\": [\"Kernel SVM (RBF)\"], \"Accuracy\": [accuracy]})\n",
    "results.to_csv(\"results_kernel_svm.csv\", index=False)\n",
    "\n",
    "# Print\n",
    "print(\"Kernel SVM (RBF) Results:\")\n",
    "print(\"Accuracy:\", accuracy)\n",
    "print(\"Confusion Matrix:\\n\", conf_matrix)"
   ]
  },
  {
   "cell_type": "code",
   "execution_count": null,
   "id": "f44e6bcf-3c6c-4432-b32f-5a112fc88c78",
   "metadata": {},
   "outputs": [],
   "source": []
  }
 ],
 "metadata": {
  "kernelspec": {
   "display_name": "Python 3 (ipykernel)",
   "language": "python",
   "name": "python3"
  },
  "language_info": {
   "codemirror_mode": {
    "name": "ipython",
    "version": 3
   },
   "file_extension": ".py",
   "mimetype": "text/x-python",
   "name": "python",
   "nbconvert_exporter": "python",
   "pygments_lexer": "ipython3",
   "version": "3.12.4"
  }
 },
 "nbformat": 4,
 "nbformat_minor": 5
}
