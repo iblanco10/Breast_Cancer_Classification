{
 "cells": [
  {
   "cell_type": "code",
   "execution_count": 4,
   "id": "1f319b63-163a-4886-9b0e-029a6cbbc0a3",
   "metadata": {},
   "outputs": [
    {
     "name": "stdout",
     "output_type": "stream",
     "text": [
      "Results compiled successfully as 'final_results.csv'.\n"
     ]
    }
   ],
   "source": [
    "# Import libraries\n",
    "import pandas as pd\n",
    "\n",
    "# Define model names\n",
    "models = [\"logistic_regression\", \"knn\", \"linear_svm\", \"kernel_svm\",\n",
    "          \"naive_bayes\", \"decision_tree\", \"random_forest\", \"xgboost\"]\n",
    "\n",
    "# Load results from all models\n",
    "all_results = pd.concat([pd.read_csv(f\"results_{model}.csv\") for model in models])\n",
    "\n",
    "# Save final results to a CSV file\n",
    "all_results.to_csv(\"final_results.csv\", index=False)\n",
    "\n",
    "# Print confirmation\n",
    "print(\"Results compiled successfully as 'final_results.csv'.\")\n"
   ]
  },
  {
   "cell_type": "code",
   "execution_count": null,
   "id": "16b8107a-f41f-4132-a919-799a5ca1ffd3",
   "metadata": {},
   "outputs": [],
   "source": []
  }
 ],
 "metadata": {
  "kernelspec": {
   "display_name": "Python 3 (ipykernel)",
   "language": "python",
   "name": "python3"
  },
  "language_info": {
   "codemirror_mode": {
    "name": "ipython",
    "version": 3
   },
   "file_extension": ".py",
   "mimetype": "text/x-python",
   "name": "python",
   "nbconvert_exporter": "python",
   "pygments_lexer": "ipython3",
   "version": "3.12.4"
  }
 },
 "nbformat": 4,
 "nbformat_minor": 5
}
